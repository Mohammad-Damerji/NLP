{
  "cells": [
    {
      "cell_type": "markdown",
      "metadata": {
        "id": "S350XHUrt-Z7"
      },
      "source": [
        "## Install and import libraries"
      ]
    },
    {
      "cell_type": "code",
      "execution_count": null,
      "metadata": {
        "colab": {
          "base_uri": "https://localhost:8080/"
        },
        "id": "ELLSuofixqcT",
        "outputId": "c093e42f-9039-4e05-d313-ddc566e3b111"
      },
      "outputs": [
        {
          "output_type": "stream",
          "name": "stdout",
          "text": [
            "Requirement already satisfied: emoji in /usr/local/lib/python3.7/dist-packages (1.7.0)\n",
            "\u001b[33mWARNING: Running pip as the 'root' user can result in broken permissions and conflicting behaviour with the system package manager. It is recommended to use a virtual environment instead: https://pip.pypa.io/warnings/venv\u001b[0m\u001b[33m\n",
            "\u001b[0mRequirement already satisfied: pip in /usr/local/lib/python3.7/dist-packages (22.0.4)\n",
            "Requirement already satisfied: setuptools in /usr/local/lib/python3.7/dist-packages (62.1.0)\n",
            "Requirement already satisfied: wheel in /usr/local/lib/python3.7/dist-packages (0.37.1)\n",
            "Requirement already satisfied: emoji in /usr/local/lib/python3.7/dist-packages (1.7.0)\n",
            "\u001b[33mWARNING: Running pip as the 'root' user can result in broken permissions and conflicting behaviour with the system package manager. It is recommended to use a virtual environment instead: https://pip.pypa.io/warnings/venv\u001b[0m\u001b[33m\n",
            "\u001b[0m"
          ]
        }
      ],
      "source": [
        "!pip install emoji && yes | pip install -U pip setuptools wheel emoji"
      ]
    },
    {
      "cell_type": "code",
      "execution_count": null,
      "metadata": {
        "id": "1EzBzDIvh_MA"
      },
      "outputs": [],
      "source": [
        "import numpy as np\n",
        "import pandas as pd\n",
        "import spacy\n",
        "import emoji\n",
        "import pickle\n",
        "from sklearn.metrics.pairwise import cosine_similarity\n",
        "from sklearn.model_selection import train_test_split\n",
        "from sklearn.preprocessing import OneHotEncoder,LabelEncoder\n",
        "from tensorflow.keras.preprocessing.sequence import pad_sequences\n",
        "from tensorflow.keras.preprocessing.text import Tokenizer\n",
        "from tensorflow.keras.models import Sequential\n",
        "from tensorflow.keras.layers import Dense, Input, Dropout, LSTM, Activation, Bidirectional, Embedding, GlobalMaxPool1D\n",
        "from tensorflow.keras.models import load_model\n",
        "from tensorflow.keras.callbacks import EarlyStopping"
      ]
    },
    {
      "cell_type": "markdown",
      "metadata": {
        "id": "osukTUvUu6eZ"
      },
      "source": [
        "## Download and import the data"
      ]
    },
    {
      "cell_type": "code",
      "execution_count": null,
      "metadata": {
        "id": "uPpeWYIYfVHu"
      },
      "outputs": [],
      "source": [
        "! pip install -q kaggle\n",
        "from google.colab import files\n",
        "files.upload()"
      ]
    },
    {
      "cell_type": "code",
      "execution_count": null,
      "metadata": {
        "id": "tyoAdQB4TW8P"
      },
      "outputs": [],
      "source": [
        "! mkdir ~/.kaggle\n",
        "! cp kaggle.json ~/.kaggle/\n",
        "! chmod 600 ~/.kaggle/kaggle.json"
      ]
    },
    {
      "cell_type": "code",
      "execution_count": null,
      "metadata": {
        "colab": {
          "base_uri": "https://localhost:8080/"
        },
        "id": "mshVs5H_g_gH",
        "outputId": "cacf470b-a54e-4614-9378-e32ad4c2a156"
      },
      "outputs": [
        {
          "name": "stdout",
          "output_type": "stream",
          "text": [
            "Downloading yahoo-answers-dataset.zip to /content\n",
            " 95% 295M/309M [00:02<00:00, 102MB/s]\n",
            "100% 309M/309M [00:02<00:00, 115MB/s]\n"
          ]
        }
      ],
      "source": [
        "! kaggle datasets download -d jarupula/yahoo-answers-dataset"
      ]
    },
    {
      "cell_type": "code",
      "execution_count": null,
      "metadata": {
        "colab": {
          "base_uri": "https://localhost:8080/"
        },
        "id": "2MAo2usXhvlo",
        "outputId": "fe109f4f-5f94-4c75-a7b2-f674d27745b9"
      },
      "outputs": [
        {
          "name": "stdout",
          "output_type": "stream",
          "text": [
            "Archive:  yahoo-answers-dataset.zip\n",
            "  inflating: data/classes.txt        \n",
            "  inflating: data/readme.txt         \n",
            "  inflating: data/test.csv           \n",
            "  inflating: data/train.csv          \n"
          ]
        }
      ],
      "source": [
        "! unzip yahoo-answers-dataset.zip -d data"
      ]
    },
    {
      "cell_type": "code",
      "execution_count": null,
      "metadata": {
        "colab": {
          "base_uri": "https://localhost:8080/"
        },
        "id": "goRBp52Xxvq2",
        "outputId": "a079556d-b17e-4545-e321-18fdd2ae25c5"
      },
      "outputs": [
        {
          "name": "stdout",
          "output_type": "stream",
          "text": [
            "Collecting en_core_web_sm==2.2.5\n",
            "  Downloading https://github.com/explosion/spacy-models/releases/download/en_core_web_sm-2.2.5/en_core_web_sm-2.2.5.tar.gz (12.0 MB)\n",
            "\u001b[2K     \u001b[90m━━━━━━━━━━━━━━━━━━━━━━━━━━━━━━━━━━━━━━━\u001b[0m \u001b[32m12.0/12.0 MB\u001b[0m \u001b[31m136.1 MB/s\u001b[0m eta \u001b[36m0:00:00\u001b[0m\n",
            "\u001b[?25h  Preparing metadata (setup.py) ... \u001b[?25l\u001b[?25hdone\n",
            "Requirement already satisfied: spacy>=2.2.2 in /usr/local/lib/python3.7/dist-packages (from en_core_web_sm==2.2.5) (2.2.4)\n",
            "Requirement already satisfied: thinc==7.4.0 in /usr/local/lib/python3.7/dist-packages (from spacy>=2.2.2->en_core_web_sm==2.2.5) (7.4.0)\n",
            "Requirement already satisfied: cymem<2.1.0,>=2.0.2 in /usr/local/lib/python3.7/dist-packages (from spacy>=2.2.2->en_core_web_sm==2.2.5) (2.0.6)\n",
            "Requirement already satisfied: preshed<3.1.0,>=3.0.2 in /usr/local/lib/python3.7/dist-packages (from spacy>=2.2.2->en_core_web_sm==2.2.5) (3.0.6)\n",
            "Requirement already satisfied: blis<0.5.0,>=0.4.0 in /usr/local/lib/python3.7/dist-packages (from spacy>=2.2.2->en_core_web_sm==2.2.5) (0.4.1)\n",
            "Requirement already satisfied: setuptools in /usr/local/lib/python3.7/dist-packages (from spacy>=2.2.2->en_core_web_sm==2.2.5) (62.1.0)\n",
            "Requirement already satisfied: srsly<1.1.0,>=1.0.2 in /usr/local/lib/python3.7/dist-packages (from spacy>=2.2.2->en_core_web_sm==2.2.5) (1.0.5)\n",
            "Requirement already satisfied: catalogue<1.1.0,>=0.0.7 in /usr/local/lib/python3.7/dist-packages (from spacy>=2.2.2->en_core_web_sm==2.2.5) (1.0.0)\n",
            "Requirement already satisfied: wasabi<1.1.0,>=0.4.0 in /usr/local/lib/python3.7/dist-packages (from spacy>=2.2.2->en_core_web_sm==2.2.5) (0.9.1)\n",
            "Requirement already satisfied: plac<1.2.0,>=0.9.6 in /usr/local/lib/python3.7/dist-packages (from spacy>=2.2.2->en_core_web_sm==2.2.5) (1.1.3)\n",
            "Requirement already satisfied: requests<3.0.0,>=2.13.0 in /usr/local/lib/python3.7/dist-packages (from spacy>=2.2.2->en_core_web_sm==2.2.5) (2.23.0)\n",
            "Requirement already satisfied: tqdm<5.0.0,>=4.38.0 in /usr/local/lib/python3.7/dist-packages (from spacy>=2.2.2->en_core_web_sm==2.2.5) (4.64.0)\n",
            "Requirement already satisfied: numpy>=1.15.0 in /usr/local/lib/python3.7/dist-packages (from spacy>=2.2.2->en_core_web_sm==2.2.5) (1.21.6)\n",
            "Requirement already satisfied: murmurhash<1.1.0,>=0.28.0 in /usr/local/lib/python3.7/dist-packages (from spacy>=2.2.2->en_core_web_sm==2.2.5) (1.0.7)\n",
            "Requirement already satisfied: importlib-metadata>=0.20 in /usr/local/lib/python3.7/dist-packages (from catalogue<1.1.0,>=0.0.7->spacy>=2.2.2->en_core_web_sm==2.2.5) (4.11.3)\n",
            "Requirement already satisfied: certifi>=2017.4.17 in /usr/local/lib/python3.7/dist-packages (from requests<3.0.0,>=2.13.0->spacy>=2.2.2->en_core_web_sm==2.2.5) (2021.10.8)\n",
            "Requirement already satisfied: urllib3!=1.25.0,!=1.25.1,<1.26,>=1.21.1 in /usr/local/lib/python3.7/dist-packages (from requests<3.0.0,>=2.13.0->spacy>=2.2.2->en_core_web_sm==2.2.5) (1.24.3)\n",
            "Requirement already satisfied: idna<3,>=2.5 in /usr/local/lib/python3.7/dist-packages (from requests<3.0.0,>=2.13.0->spacy>=2.2.2->en_core_web_sm==2.2.5) (2.10)\n",
            "Requirement already satisfied: chardet<4,>=3.0.2 in /usr/local/lib/python3.7/dist-packages (from requests<3.0.0,>=2.13.0->spacy>=2.2.2->en_core_web_sm==2.2.5) (3.0.4)\n",
            "Requirement already satisfied: typing-extensions>=3.6.4 in /usr/local/lib/python3.7/dist-packages (from importlib-metadata>=0.20->catalogue<1.1.0,>=0.0.7->spacy>=2.2.2->en_core_web_sm==2.2.5) (4.2.0)\n",
            "Requirement already satisfied: zipp>=0.5 in /usr/local/lib/python3.7/dist-packages (from importlib-metadata>=0.20->catalogue<1.1.0,>=0.0.7->spacy>=2.2.2->en_core_web_sm==2.2.5) (3.8.0)\n",
            "\u001b[33mWARNING: Running pip as the 'root' user can result in broken permissions and conflicting behaviour with the system package manager. It is recommended to use a virtual environment instead: https://pip.pypa.io/warnings/venv\u001b[0m\u001b[33m\n",
            "\u001b[0m\u001b[38;5;2m✔ Download and installation successful\u001b[0m\n",
            "You can now load the model via spacy.load('en_core_web_sm')\n"
          ]
        }
      ],
      "source": [
        "!python -m spacy download en_core_web_sm"
      ]
    },
    {
      "cell_type": "code",
      "execution_count": null,
      "metadata": {
        "id": "op5kh9rxnLZl"
      },
      "outputs": [],
      "source": [
        "df_classes = pd.read_csv('/content/data/classes.txt',header=None,names=['classes'])\n",
        "df_classes.index = np.arange(1, len(df_classes)+1)"
      ]
    },
    {
      "cell_type": "code",
      "execution_count": null,
      "metadata": {
        "id": "kL1NhcAHiPTU"
      },
      "outputs": [],
      "source": [
        "df = pd.read_csv('/content/data/train.csv',sep=',' ,header=None,names=['label','question_title','question_content','best_answer'])"
      ]
    },
    {
      "cell_type": "code",
      "execution_count": null,
      "metadata": {
        "colab": {
          "base_uri": "https://localhost:8080/",
          "height": 206
        },
        "id": "nKaxO0PhiaAE",
        "outputId": "e92f98ab-15c0-40d6-96e4-dfd2c4254520"
      },
      "outputs": [
        {
          "output_type": "execute_result",
          "data": {
            "text/plain": [
              "   label                                     question_title  \\\n",
              "0      5  why doesn't an optical mouse work on a glass t...   \n",
              "1      6       What is the best off-road motorcycle trail ?   \n",
              "2      3             What is Trans Fat? How to reduce that?   \n",
              "3      7                         How many planes Fedex has?   \n",
              "4      7  In the san francisco bay area, does it make se...   \n",
              "\n",
              "                                    question_content  \\\n",
              "0                          or even on some surfaces?   \n",
              "1                  long-distance trail throughout CA   \n",
              "2  I heard that tras fat is bad for the body.  Wh...   \n",
              "3  I heard that it is the largest airline in the ...   \n",
              "4  the prices of rent and the price of buying doe...   \n",
              "\n",
              "                                         best_answer  \n",
              "0  Optical mice use an LED and a camera to rapidl...  \n",
              "1  i hear that the mojave road is amazing!<br />\\...  \n",
              "2  Trans fats occur in manufactured foods during ...  \n",
              "3  according to the www.fedex.com web site:\\nAir ...  \n",
              "4  renting vs buying depends on your goals. <br /...  "
            ],
            "text/html": [
              "\n",
              "  <div id=\"df-41cce638-e2be-4da3-a56f-faa32f649b33\">\n",
              "    <div class=\"colab-df-container\">\n",
              "      <div>\n",
              "<style scoped>\n",
              "    .dataframe tbody tr th:only-of-type {\n",
              "        vertical-align: middle;\n",
              "    }\n",
              "\n",
              "    .dataframe tbody tr th {\n",
              "        vertical-align: top;\n",
              "    }\n",
              "\n",
              "    .dataframe thead th {\n",
              "        text-align: right;\n",
              "    }\n",
              "</style>\n",
              "<table border=\"1\" class=\"dataframe\">\n",
              "  <thead>\n",
              "    <tr style=\"text-align: right;\">\n",
              "      <th></th>\n",
              "      <th>label</th>\n",
              "      <th>question_title</th>\n",
              "      <th>question_content</th>\n",
              "      <th>best_answer</th>\n",
              "    </tr>\n",
              "  </thead>\n",
              "  <tbody>\n",
              "    <tr>\n",
              "      <th>0</th>\n",
              "      <td>5</td>\n",
              "      <td>why doesn't an optical mouse work on a glass t...</td>\n",
              "      <td>or even on some surfaces?</td>\n",
              "      <td>Optical mice use an LED and a camera to rapidl...</td>\n",
              "    </tr>\n",
              "    <tr>\n",
              "      <th>1</th>\n",
              "      <td>6</td>\n",
              "      <td>What is the best off-road motorcycle trail ?</td>\n",
              "      <td>long-distance trail throughout CA</td>\n",
              "      <td>i hear that the mojave road is amazing!&lt;br /&gt;\\...</td>\n",
              "    </tr>\n",
              "    <tr>\n",
              "      <th>2</th>\n",
              "      <td>3</td>\n",
              "      <td>What is Trans Fat? How to reduce that?</td>\n",
              "      <td>I heard that tras fat is bad for the body.  Wh...</td>\n",
              "      <td>Trans fats occur in manufactured foods during ...</td>\n",
              "    </tr>\n",
              "    <tr>\n",
              "      <th>3</th>\n",
              "      <td>7</td>\n",
              "      <td>How many planes Fedex has?</td>\n",
              "      <td>I heard that it is the largest airline in the ...</td>\n",
              "      <td>according to the www.fedex.com web site:\\nAir ...</td>\n",
              "    </tr>\n",
              "    <tr>\n",
              "      <th>4</th>\n",
              "      <td>7</td>\n",
              "      <td>In the san francisco bay area, does it make se...</td>\n",
              "      <td>the prices of rent and the price of buying doe...</td>\n",
              "      <td>renting vs buying depends on your goals. &lt;br /...</td>\n",
              "    </tr>\n",
              "  </tbody>\n",
              "</table>\n",
              "</div>\n",
              "      <button class=\"colab-df-convert\" onclick=\"convertToInteractive('df-41cce638-e2be-4da3-a56f-faa32f649b33')\"\n",
              "              title=\"Convert this dataframe to an interactive table.\"\n",
              "              style=\"display:none;\">\n",
              "        \n",
              "  <svg xmlns=\"http://www.w3.org/2000/svg\" height=\"24px\"viewBox=\"0 0 24 24\"\n",
              "       width=\"24px\">\n",
              "    <path d=\"M0 0h24v24H0V0z\" fill=\"none\"/>\n",
              "    <path d=\"M18.56 5.44l.94 2.06.94-2.06 2.06-.94-2.06-.94-.94-2.06-.94 2.06-2.06.94zm-11 1L8.5 8.5l.94-2.06 2.06-.94-2.06-.94L8.5 2.5l-.94 2.06-2.06.94zm10 10l.94 2.06.94-2.06 2.06-.94-2.06-.94-.94-2.06-.94 2.06-2.06.94z\"/><path d=\"M17.41 7.96l-1.37-1.37c-.4-.4-.92-.59-1.43-.59-.52 0-1.04.2-1.43.59L10.3 9.45l-7.72 7.72c-.78.78-.78 2.05 0 2.83L4 21.41c.39.39.9.59 1.41.59.51 0 1.02-.2 1.41-.59l7.78-7.78 2.81-2.81c.8-.78.8-2.07 0-2.86zM5.41 20L4 18.59l7.72-7.72 1.47 1.35L5.41 20z\"/>\n",
              "  </svg>\n",
              "      </button>\n",
              "      \n",
              "  <style>\n",
              "    .colab-df-container {\n",
              "      display:flex;\n",
              "      flex-wrap:wrap;\n",
              "      gap: 12px;\n",
              "    }\n",
              "\n",
              "    .colab-df-convert {\n",
              "      background-color: #E8F0FE;\n",
              "      border: none;\n",
              "      border-radius: 50%;\n",
              "      cursor: pointer;\n",
              "      display: none;\n",
              "      fill: #1967D2;\n",
              "      height: 32px;\n",
              "      padding: 0 0 0 0;\n",
              "      width: 32px;\n",
              "    }\n",
              "\n",
              "    .colab-df-convert:hover {\n",
              "      background-color: #E2EBFA;\n",
              "      box-shadow: 0px 1px 2px rgba(60, 64, 67, 0.3), 0px 1px 3px 1px rgba(60, 64, 67, 0.15);\n",
              "      fill: #174EA6;\n",
              "    }\n",
              "\n",
              "    [theme=dark] .colab-df-convert {\n",
              "      background-color: #3B4455;\n",
              "      fill: #D2E3FC;\n",
              "    }\n",
              "\n",
              "    [theme=dark] .colab-df-convert:hover {\n",
              "      background-color: #434B5C;\n",
              "      box-shadow: 0px 1px 3px 1px rgba(0, 0, 0, 0.15);\n",
              "      filter: drop-shadow(0px 1px 2px rgba(0, 0, 0, 0.3));\n",
              "      fill: #FFFFFF;\n",
              "    }\n",
              "  </style>\n",
              "\n",
              "      <script>\n",
              "        const buttonEl =\n",
              "          document.querySelector('#df-41cce638-e2be-4da3-a56f-faa32f649b33 button.colab-df-convert');\n",
              "        buttonEl.style.display =\n",
              "          google.colab.kernel.accessAllowed ? 'block' : 'none';\n",
              "\n",
              "        async function convertToInteractive(key) {\n",
              "          const element = document.querySelector('#df-41cce638-e2be-4da3-a56f-faa32f649b33');\n",
              "          const dataTable =\n",
              "            await google.colab.kernel.invokeFunction('convertToInteractive',\n",
              "                                                     [key], {});\n",
              "          if (!dataTable) return;\n",
              "\n",
              "          const docLinkHtml = 'Like what you see? Visit the ' +\n",
              "            '<a target=\"_blank\" href=https://colab.research.google.com/notebooks/data_table.ipynb>data table notebook</a>'\n",
              "            + ' to learn more about interactive tables.';\n",
              "          element.innerHTML = '';\n",
              "          dataTable['output_type'] = 'display_data';\n",
              "          await google.colab.output.renderOutput(dataTable, element);\n",
              "          const docLink = document.createElement('div');\n",
              "          docLink.innerHTML = docLinkHtml;\n",
              "          element.appendChild(docLink);\n",
              "        }\n",
              "      </script>\n",
              "    </div>\n",
              "  </div>\n",
              "  "
            ]
          },
          "metadata": {},
          "execution_count": 30
        }
      ],
      "source": [
        "df1 = df.drop(df.index[100000:])\n",
        "df1.head()"
      ]
    },
    {
      "cell_type": "code",
      "execution_count": null,
      "metadata": {
        "colab": {
          "base_uri": "https://localhost:8080/"
        },
        "id": "2TzY7lV1kmkb",
        "outputId": "f40d3a00-8602-49d2-80de-489eb6ffa279"
      },
      "outputs": [
        {
          "output_type": "execute_result",
          "data": {
            "text/plain": [
              "(100000, 4)"
            ]
          },
          "metadata": {},
          "execution_count": 31
        }
      ],
      "source": [
        "df1.shape"
      ]
    },
    {
      "cell_type": "code",
      "execution_count": null,
      "metadata": {
        "id": "4g-ObI1yQTFy"
      },
      "outputs": [],
      "source": [
        "df1.dropna(subset = [\"best_answer\"], inplace=True)\n",
        "df1.dropna(subset = [\"question_title\"], inplace=True)"
      ]
    },
    {
      "cell_type": "code",
      "execution_count": null,
      "metadata": {
        "colab": {
          "base_uri": "https://localhost:8080/"
        },
        "id": "3EHp9XPaSEgm",
        "outputId": "aeacee30-08ba-47da-88da-e5a246651902"
      },
      "outputs": [
        {
          "output_type": "execute_result",
          "data": {
            "text/plain": [
              "(99983, 4)"
            ]
          },
          "metadata": {},
          "execution_count": 33
        }
      ],
      "source": [
        "df1.shape"
      ]
    },
    {
      "cell_type": "code",
      "execution_count": null,
      "metadata": {
        "id": "czlU7cBslW5U"
      },
      "outputs": [],
      "source": [
        "df1 = df1.reset_index()\n",
        "df1 = df1.drop(['index', 'question_content'], axis = 1)"
      ]
    },
    {
      "cell_type": "code",
      "execution_count": null,
      "metadata": {
        "colab": {
          "base_uri": "https://localhost:8080/",
          "height": 206
        },
        "id": "2OYaLd3jmccy",
        "outputId": "57a70f7f-0c77-44d5-e0ea-849a2403e9d9"
      },
      "outputs": [
        {
          "output_type": "execute_result",
          "data": {
            "text/plain": [
              "   label                                     question_title  \\\n",
              "0      5  why doesn't an optical mouse work on a glass t...   \n",
              "1      6       What is the best off-road motorcycle trail ?   \n",
              "2      3             What is Trans Fat? How to reduce that?   \n",
              "3      7                         How many planes Fedex has?   \n",
              "4      7  In the san francisco bay area, does it make se...   \n",
              "\n",
              "                                         best_answer  \n",
              "0  Optical mice use an LED and a camera to rapidl...  \n",
              "1  i hear that the mojave road is amazing!<br />\\...  \n",
              "2  Trans fats occur in manufactured foods during ...  \n",
              "3  according to the www.fedex.com web site:\\nAir ...  \n",
              "4  renting vs buying depends on your goals. <br /...  "
            ],
            "text/html": [
              "\n",
              "  <div id=\"df-deff4236-7953-4095-a03e-ddb554a173d4\">\n",
              "    <div class=\"colab-df-container\">\n",
              "      <div>\n",
              "<style scoped>\n",
              "    .dataframe tbody tr th:only-of-type {\n",
              "        vertical-align: middle;\n",
              "    }\n",
              "\n",
              "    .dataframe tbody tr th {\n",
              "        vertical-align: top;\n",
              "    }\n",
              "\n",
              "    .dataframe thead th {\n",
              "        text-align: right;\n",
              "    }\n",
              "</style>\n",
              "<table border=\"1\" class=\"dataframe\">\n",
              "  <thead>\n",
              "    <tr style=\"text-align: right;\">\n",
              "      <th></th>\n",
              "      <th>label</th>\n",
              "      <th>question_title</th>\n",
              "      <th>best_answer</th>\n",
              "    </tr>\n",
              "  </thead>\n",
              "  <tbody>\n",
              "    <tr>\n",
              "      <th>0</th>\n",
              "      <td>5</td>\n",
              "      <td>why doesn't an optical mouse work on a glass t...</td>\n",
              "      <td>Optical mice use an LED and a camera to rapidl...</td>\n",
              "    </tr>\n",
              "    <tr>\n",
              "      <th>1</th>\n",
              "      <td>6</td>\n",
              "      <td>What is the best off-road motorcycle trail ?</td>\n",
              "      <td>i hear that the mojave road is amazing!&lt;br /&gt;\\...</td>\n",
              "    </tr>\n",
              "    <tr>\n",
              "      <th>2</th>\n",
              "      <td>3</td>\n",
              "      <td>What is Trans Fat? How to reduce that?</td>\n",
              "      <td>Trans fats occur in manufactured foods during ...</td>\n",
              "    </tr>\n",
              "    <tr>\n",
              "      <th>3</th>\n",
              "      <td>7</td>\n",
              "      <td>How many planes Fedex has?</td>\n",
              "      <td>according to the www.fedex.com web site:\\nAir ...</td>\n",
              "    </tr>\n",
              "    <tr>\n",
              "      <th>4</th>\n",
              "      <td>7</td>\n",
              "      <td>In the san francisco bay area, does it make se...</td>\n",
              "      <td>renting vs buying depends on your goals. &lt;br /...</td>\n",
              "    </tr>\n",
              "  </tbody>\n",
              "</table>\n",
              "</div>\n",
              "      <button class=\"colab-df-convert\" onclick=\"convertToInteractive('df-deff4236-7953-4095-a03e-ddb554a173d4')\"\n",
              "              title=\"Convert this dataframe to an interactive table.\"\n",
              "              style=\"display:none;\">\n",
              "        \n",
              "  <svg xmlns=\"http://www.w3.org/2000/svg\" height=\"24px\"viewBox=\"0 0 24 24\"\n",
              "       width=\"24px\">\n",
              "    <path d=\"M0 0h24v24H0V0z\" fill=\"none\"/>\n",
              "    <path d=\"M18.56 5.44l.94 2.06.94-2.06 2.06-.94-2.06-.94-.94-2.06-.94 2.06-2.06.94zm-11 1L8.5 8.5l.94-2.06 2.06-.94-2.06-.94L8.5 2.5l-.94 2.06-2.06.94zm10 10l.94 2.06.94-2.06 2.06-.94-2.06-.94-.94-2.06-.94 2.06-2.06.94z\"/><path d=\"M17.41 7.96l-1.37-1.37c-.4-.4-.92-.59-1.43-.59-.52 0-1.04.2-1.43.59L10.3 9.45l-7.72 7.72c-.78.78-.78 2.05 0 2.83L4 21.41c.39.39.9.59 1.41.59.51 0 1.02-.2 1.41-.59l7.78-7.78 2.81-2.81c.8-.78.8-2.07 0-2.86zM5.41 20L4 18.59l7.72-7.72 1.47 1.35L5.41 20z\"/>\n",
              "  </svg>\n",
              "      </button>\n",
              "      \n",
              "  <style>\n",
              "    .colab-df-container {\n",
              "      display:flex;\n",
              "      flex-wrap:wrap;\n",
              "      gap: 12px;\n",
              "    }\n",
              "\n",
              "    .colab-df-convert {\n",
              "      background-color: #E8F0FE;\n",
              "      border: none;\n",
              "      border-radius: 50%;\n",
              "      cursor: pointer;\n",
              "      display: none;\n",
              "      fill: #1967D2;\n",
              "      height: 32px;\n",
              "      padding: 0 0 0 0;\n",
              "      width: 32px;\n",
              "    }\n",
              "\n",
              "    .colab-df-convert:hover {\n",
              "      background-color: #E2EBFA;\n",
              "      box-shadow: 0px 1px 2px rgba(60, 64, 67, 0.3), 0px 1px 3px 1px rgba(60, 64, 67, 0.15);\n",
              "      fill: #174EA6;\n",
              "    }\n",
              "\n",
              "    [theme=dark] .colab-df-convert {\n",
              "      background-color: #3B4455;\n",
              "      fill: #D2E3FC;\n",
              "    }\n",
              "\n",
              "    [theme=dark] .colab-df-convert:hover {\n",
              "      background-color: #434B5C;\n",
              "      box-shadow: 0px 1px 3px 1px rgba(0, 0, 0, 0.15);\n",
              "      filter: drop-shadow(0px 1px 2px rgba(0, 0, 0, 0.3));\n",
              "      fill: #FFFFFF;\n",
              "    }\n",
              "  </style>\n",
              "\n",
              "      <script>\n",
              "        const buttonEl =\n",
              "          document.querySelector('#df-deff4236-7953-4095-a03e-ddb554a173d4 button.colab-df-convert');\n",
              "        buttonEl.style.display =\n",
              "          google.colab.kernel.accessAllowed ? 'block' : 'none';\n",
              "\n",
              "        async function convertToInteractive(key) {\n",
              "          const element = document.querySelector('#df-deff4236-7953-4095-a03e-ddb554a173d4');\n",
              "          const dataTable =\n",
              "            await google.colab.kernel.invokeFunction('convertToInteractive',\n",
              "                                                     [key], {});\n",
              "          if (!dataTable) return;\n",
              "\n",
              "          const docLinkHtml = 'Like what you see? Visit the ' +\n",
              "            '<a target=\"_blank\" href=https://colab.research.google.com/notebooks/data_table.ipynb>data table notebook</a>'\n",
              "            + ' to learn more about interactive tables.';\n",
              "          element.innerHTML = '';\n",
              "          dataTable['output_type'] = 'display_data';\n",
              "          await google.colab.output.renderOutput(dataTable, element);\n",
              "          const docLink = document.createElement('div');\n",
              "          docLink.innerHTML = docLinkHtml;\n",
              "          element.appendChild(docLink);\n",
              "        }\n",
              "      </script>\n",
              "    </div>\n",
              "  </div>\n",
              "  "
            ]
          },
          "metadata": {},
          "execution_count": 35
        }
      ],
      "source": [
        "df1.head()"
      ]
    },
    {
      "cell_type": "code",
      "execution_count": null,
      "metadata": {
        "colab": {
          "base_uri": "https://localhost:8080/"
        },
        "id": "gFacitugsYoH",
        "outputId": "6911e3f5-5554-43a1-98c0-0597c8dc6d9d"
      },
      "outputs": [
        {
          "output_type": "execute_result",
          "data": {
            "text/plain": [
              "{1, 2, 3, 4, 5, 6, 7, 8, 9, 10}"
            ]
          },
          "metadata": {},
          "execution_count": 36
        }
      ],
      "source": [
        "set(df['label'])"
      ]
    },
    {
      "cell_type": "code",
      "execution_count": null,
      "metadata": {
        "colab": {
          "base_uri": "https://localhost:8080/"
        },
        "id": "4kyQeHK3nWTI",
        "outputId": "18760dce-ae5c-425e-8129-127b670b69a0"
      },
      "outputs": [
        {
          "output_type": "execute_result",
          "data": {
            "text/plain": [
              "1          Society & Culture\n",
              "2      Science & Mathematics\n",
              "3                     Health\n",
              "4      Education & Reference\n",
              "5       Computers & Internet\n",
              "6                     Sports\n",
              "7         Business & Finance\n",
              "8      Entertainment & Music\n",
              "9     Family & Relationships\n",
              "10     Politics & Government\n",
              "Name: classes, dtype: object"
            ]
          },
          "metadata": {},
          "execution_count": 37
        }
      ],
      "source": [
        "Classes = df_classes['classes']\n",
        "Classes"
      ]
    },
    {
      "cell_type": "code",
      "execution_count": null,
      "metadata": {
        "colab": {
          "base_uri": "https://localhost:8080/",
          "height": 389
        },
        "id": "P_cbxF5VlDvG",
        "outputId": "ce3c1ad1-1211-40ef-92da-3227d20e57b4"
      },
      "outputs": [
        {
          "output_type": "stream",
          "name": "stderr",
          "text": [
            "/usr/local/lib/python3.7/dist-packages/seaborn/_decorators.py:43: FutureWarning: Pass the following variable as a keyword arg: x. From version 0.12, the only valid positional argument will be `data`, and passing other arguments without an explicit keyword will result in an error or misinterpretation.\n",
            "  FutureWarning\n"
          ]
        },
        {
          "output_type": "display_data",
          "data": {
            "text/plain": [
              "<Figure size 576x360 with 1 Axes>"
            ],
            "image/png": "[encoded data removed]"
          },
          "metadata": {
            "needs_background": "light"
          }
        }
      ],
      "source": [
        "import seaborn as sns\n",
        "import matplotlib.pyplot as plt\n",
        "plt.figure(figsize=(8,5))\n",
        "sns.countplot(df1['label'])\n",
        "plt.show()"
      ]
    },
    {
      "cell_type": "code",
      "execution_count": null,
      "metadata": {
        "colab": {
          "base_uri": "https://localhost:8080/",
          "height": 248
        },
        "id": "D6pQt6yivHAA",
        "outputId": "be1237d6-45b8-45a6-d1e3-76b34c4d0287"
      },
      "outputs": [
        {
          "output_type": "display_data",
          "data": {
            "text/plain": [
              "<Figure size 432x288 with 1 Axes>"
            ],
            "image/png": "[encoded data removed]"
          },
          "metadata": {}
        }
      ],
      "source": [
        "d = []\n",
        "for i in range(1,11):\n",
        "  d.append(len(df1[df1['label']==i]))\n",
        "\n",
        "plt.pie(d, labels = df_classes['classes'], autopct='%.0f%%')\n",
        "plt.show()"
      ]
    },
    {
      "cell_type": "markdown",
      "metadata": {
        "id": "0n6bhfS6xdyb"
      },
      "source": [
        "## Cleaning data"
      ]
    },
    {
      "cell_type": "code",
      "execution_count": null,
      "metadata": {
        "id": "no_C8tBKw6Ub"
      },
      "outputs": [],
      "source": [
        "nlp = spacy.load(\"en_core_web_sm\")"
      ]
    },
    {
      "cell_type": "code",
      "execution_count": null,
      "metadata": {
        "id": "vkZmOWQ9wKZh"
      },
      "outputs": [],
      "source": [
        "def clean_data(questions):\n",
        "  cleaned_data = []\n",
        "  i=0\n",
        "  for question  in questions:\n",
        "      doc = nlp(question)\n",
        "      lst = [str(token.lemma_).lower() for token in doc if not (token.is_stop or token in emoji.UNICODE_EMOJI or token.is_punct)]\n",
        "      cleaned_data.append(lst)\n",
        "      i += 1\n",
        "      if i%10000==0:\n",
        "        print(f\"{i} sentences were cleaned\")\n",
        "  print(f\"{i} sentences were cleaned\")   \n",
        "  return cleaned_data\n",
        "#----------------------------------------#\n",
        "cleaned_data = clean_data(df1['question_title'])"
      ]
    },
    {
      "cell_type": "code",
      "execution_count": null,
      "metadata": {
        "id": "jn2hDz_OAzzH"
      },
      "outputs": [],
      "source": [
        "b_file = open(\"cleaned_data.pkl\", \"wb\")\n",
        "pickle.dump(cleaned_data, b_file)\n",
        "b_file.close()"
      ]
    },
    {
      "cell_type": "code",
      "execution_count": null,
      "metadata": {
        "id": "v6QGKpz2bYV8"
      },
      "outputs": [],
      "source": [
        "b_file = open(\"cleaned_data.pkl\", \"rb\")\n",
        "cleaned_data = pickle.load(b_file)"
      ]
    },
    {
      "cell_type": "code",
      "execution_count": null,
      "metadata": {
        "colab": {
          "background_save": true
        },
        "id": "Hiob6J84vUOM"
      },
      "outputs": [],
      "source": [
        "# dic = {\n",
        "#     classs1: [(q1,ans1),(q2,ans2),....]\n",
        "#     classs2: [(q1,ans1),(q2,ans2),....]\n",
        "#     classs3: [(q1,ans1),(q2,ans2),....]\n",
        "#     classs4: [(q1,ans1),(q2,ans2),....]\n",
        "#     .\n",
        "#     .\n",
        "#     .\n",
        "#     classs10: [(q1,ans1),(q2,ans2),....]\n",
        "#   }\n",
        "\n",
        "def build_dic(df,cleaned_data):\n",
        "  dic = { 1:[], 2:[], 3:[], 4:[], 5:[], 6:[], 7:[], 8:[], 9:[], 10:[] }\n",
        "  for i in range(df.shape[0]):\n",
        "    raw = df.loc[i]\n",
        "    dic[raw.label].append((cleaned_data[i], raw.best_answer))\n",
        "  return dic\n",
        "\n",
        "dic = build_dic(df1,cleaned_data)"
      ]
    },
    {
      "cell_type": "code",
      "execution_count": null,
      "metadata": {
        "colab": {
          "background_save": true
        },
        "id": "Bb_qic0oVLFf"
      },
      "outputs": [],
      "source": [
        "a_file = open(\"dic.pkl\", \"wb\")\n",
        "pickle.dump(dic, a_file)\n",
        "a_file.close()"
      ]
    },
    {
      "cell_type": "code",
      "execution_count": null,
      "metadata": {
        "colab": {
          "background_save": true
        },
        "id": "NAwroK-UVvW9"
      },
      "outputs": [],
      "source": [
        "a_file = open(\"dic.pkl\", \"rb\")\n",
        "dic = pickle.load(a_file)"
      ]
    },
    {
      "cell_type": "markdown",
      "metadata": {
        "id": "O5zlpxO27_9D"
      },
      "source": [
        "## Encoding the data"
      ]
    },
    {
      "cell_type": "code",
      "execution_count": null,
      "metadata": {
        "colab": {
          "background_save": true
        },
        "id": "J7tB99fy1pZN"
      },
      "outputs": [],
      "source": [
        "def clean_preprocessing(cleaned_data, labels):\n",
        "\n",
        "    classes = np.unique(labels)\n",
        "\n",
        "    tokenizer = Tokenizer()\n",
        "    tokenizer.fit_on_texts(cleaned_data)\n",
        "    # word to index\n",
        "    word_index = tokenizer.word_index\n",
        "    # word_index is a dictionary contains indeces for the words like {'for': 8, 'is': 9, 'me': 10, ...}\n",
        "    ls=[]\n",
        "    for c in cleaned_data:\n",
        "        ls.append(len(c))\n",
        "    maxLen=int(np.percentile(ls, 98))\n",
        "    print(f\"The maxLen is {maxLen}\")\n",
        "    # train_sequences is vectors where each vector represents a sentence\n",
        "    data_sequences = tokenizer.texts_to_sequences(cleaned_data)\n",
        "    data_sequences = pad_sequences(data_sequences, maxlen=maxLen, padding='post')\n",
        "\n",
        "    # Convert our labels into one-hot encoded\n",
        "    label_encoder = LabelEncoder()\n",
        "    integer_encoded = label_encoder.fit_transform(classes)\n",
        "    integer_encoded = integer_encoded.reshape(len(integer_encoded), 1)\n",
        "\n",
        "    onehot_encoder = OneHotEncoder(sparse=False)\n",
        "    onehot_encoder.fit(integer_encoded)\n",
        "\n",
        "    data_label_encoded = label_encoder.transform(labels)\n",
        "    data_label_encoded = data_label_encoded.reshape(len(data_label_encoded), 1)\n",
        "    data_label = onehot_encoder.transform(data_label_encoded)\n",
        "\n",
        "\n",
        "    with open('tokenizer.pkl','wb') as file:\n",
        "        pickle.dump(tokenizer,file)\n",
        "\n",
        "    with open('label_encoder.pkl','wb') as file:\n",
        "        pickle.dump(label_encoder,file)\n",
        "\n",
        "    return data_sequences, data_label, word_index, maxLen\n",
        "#------------------------------------------------------------------#\n",
        "data_sequences, data_label, word_index, maxLen = clean_preprocessing(cleaned_data, df1['label'])"
      ]
    },
    {
      "cell_type": "code",
      "execution_count": null,
      "metadata": {
        "colab": {
          "background_save": true
        },
        "id": "sNQAyz2k8mnq",
        "outputId": "e66bef48-3955-406e-9cca-2abe670afea4"
      },
      "outputs": [
        {
          "name": "stdout",
          "output_type": "stream",
          "text": [
            "[8438  202 2523    0    0    0    0    0    0    0    0]\n",
            "[0. 0. 0. 0. 0. 0. 1. 0. 0. 0.]\n"
          ]
        }
      ],
      "source": [
        "train_data, val_test_data, train_labels, val_test_labels = train_test_split(data_sequences, data_label,test_size = 0.3,stratify=data_label)\n",
        "test_data, val_data, test_labels, val_labels = train_test_split(val_test_data, val_test_labels,test_size = 0.2)\n",
        "print(train_data[0])\n",
        "print(train_labels[0])"
      ]
    },
    {
      "cell_type": "code",
      "execution_count": null,
      "metadata": {
        "colab": {
          "background_save": true
        },
        "id": "6A7A9YeC8ncP",
        "outputId": "4d1d9a5d-3ca7-4a86-d32b-1bfca6b625c5"
      },
      "outputs": [
        {
          "name": "stderr",
          "output_type": "stream",
          "text": [
            "/usr/local/lib/python3.7/dist-packages/IPython/core/interactiveshell.py:2882: FutureWarning: arrays to stack must be passed as a \"sequence\" type such as list or tuple. Support for non-sequence iterables such as generators is deprecated as of NumPy 1.16 and will raise an error in the future.\n",
            "  exec(code_obj, self.user_global_ns, self.user_ns)\n"
          ]
        }
      ],
      "source": [
        "# !pip install wget\n",
        "# import wget\n",
        "# url ='https://www.dropbox.com/s/a247ju2qsczh0be/glove.6B.100d.txt?dl=1'\n",
        "# wget.download(url)\n",
        "\n",
        "def GloVe(data = 'glove.6B.100d.txt'):\n",
        "\n",
        "  embeddings_index={}\n",
        "  with open(data, encoding='utf8') as f:\n",
        "    for line in f:\n",
        "        values = line.split()\n",
        "        word = values[0]\n",
        "        coefs = np.asarray(values[1:], dtype='float32')\n",
        "        embeddings_index[word] = coefs\n",
        "  return embeddings_index\n",
        "#--------------------------------------------------------------------------------------------#\n",
        "def embeddingWights(word_index, max_num_words=50000):\n",
        "  embeddings_index = GloVe()\n",
        "  all_embs = np.stack(embeddings_index.values())\n",
        "  emb_mean,emb_std = all_embs.mean(), all_embs.std()\n",
        "\n",
        "  num_words = min(max_num_words, len(word_index))+1\n",
        "\n",
        "  embedding_dim=len(embeddings_index['the'])\n",
        "\n",
        "  embedding_wights = np.random.normal(emb_mean, emb_std, (num_words, embedding_dim))\n",
        "\n",
        "  for word, i in word_index.items():\n",
        "      if i >= max_num_words:\n",
        "          break\n",
        "      embedding_vector = embeddings_index.get(word)\n",
        "      if embedding_vector is not None:\n",
        "          embedding_wights[i] = embedding_vector\n",
        "  \n",
        "  return embedding_wights, num_words\n",
        "\n",
        "#--------------------------------------------------------------------------------------------#\n",
        "embedding_wights, num_words = embeddingWights(word_index)"
      ]
    },
    {
      "cell_type": "code",
      "execution_count": null,
      "metadata": {
        "colab": {
          "background_save": true
        },
        "id": "zQaydWt5NbZ7"
      },
      "outputs": [],
      "source": [
        "def defineModel(num_words, maxLen, embedding_wights, numberOFclasses):\n",
        "\n",
        "  model = Sequential()\n",
        "  model.add(Embedding(input_dim=num_words, output_dim=100, trainable=False,input_length=maxLen, weights=[embedding_wights]))\n",
        "  model.add(Bidirectional(LSTM(256, return_sequences=True, recurrent_dropout=0.1, dropout=0.1), 'concat'))\n",
        "  model.add(Dropout(0.2))\n",
        "  model.add(LSTM(128, return_sequences=False, recurrent_dropout=0.1, dropout=0.1))\n",
        "  model.add(Dropout(0.2))\n",
        "  model.add(Dense(64, activation='sigmoid'))\n",
        "  model.add(Dropout(0.2))\n",
        "  model.add(Dense(numberOFclasses, activation='softmax'))\n",
        "  model.compile(loss = 'categorical_crossentropy', optimizer = \"adam\", metrics = [\"accuracy\"])\n",
        "\n",
        "  return model\n"
      ]
    },
    {
      "cell_type": "code",
      "execution_count": null,
      "metadata": {
        "colab": {
          "background_save": true
        },
        "id": "NN4sUzNzrhqz",
        "outputId": "36751b41-383f-47c5-f344-d137db081ffa"
      },
      "outputs": [
        {
          "name": "stdout",
          "output_type": "stream",
          "text": [
            "Model: \"sequential_5\"\n",
            "_________________________________________________________________\n",
            " Layer (type)                Output Shape              Param #   \n",
            "=================================================================\n",
            " embedding_5 (Embedding)     (None, 11, 100)           4758100   \n",
            "                                                                 \n",
            " bidirectional_5 (Bidirectio  (None, 11, 256)          234496    \n",
            " nal)                                                            \n",
            "                                                                 \n",
            " global_max_pooling1d_5 (Glo  (None, 256)              0         \n",
            " balMaxPooling1D)                                                \n",
            "                                                                 \n",
            " dense_12 (Dense)            (None, 200)               51400     \n",
            "                                                                 \n",
            " dropout_8 (Dropout)         (None, 200)               0         \n",
            "                                                                 \n",
            " dense_13 (Dense)            (None, 100)               20100     \n",
            "                                                                 \n",
            " dropout_9 (Dropout)         (None, 100)               0         \n",
            "                                                                 \n",
            " dense_14 (Dense)            (None, 10)                1010      \n",
            "                                                                 \n",
            "=================================================================\n",
            "Total params: 5,065,106\n",
            "Trainable params: 307,006\n",
            "Non-trainable params: 4,758,100\n",
            "_________________________________________________________________\n",
            "None\n"
          ]
        }
      ],
      "source": [
        "model = defineModel(num_words, maxLen, embedding_wights, numberOFclasses=10)\n",
        "print(model.summary())"
      ]
    },
    {
      "cell_type": "code",
      "execution_count": null,
      "metadata": {
        "colab": {
          "background_save": true
        },
        "id": "cRd12U6QsJcx",
        "outputId": "5a7c4199-e038-4adb-83cc-c30f5e5657da"
      },
      "outputs": [
        {
          "data": {
            "image/png": "[encoded data removed]",
            "text/plain": [
              "<IPython.core.display.Image object>"
            ]
          },
          "execution_count": null,
          "metadata": {},
          "output_type": "execute_result"
        }
      ],
      "source": [
        "from keras.utils.vis_utils import plot_model\n",
        "plot_model(model, to_file='model_plot.png', show_shapes=True, show_layer_names=True)"
      ]
    },
    {
      "cell_type": "code",
      "execution_count": null,
      "metadata": {
        "colab": {
          "base_uri": "https://localhost:8080/"
        },
        "id": "tGYOdrOqrd8z",
        "outputId": "ca034545-dbc7-46bc-a1e2-9eb2bbedd73b"
      },
      "outputs": [
        {
          "name": "stdout",
          "output_type": "stream",
          "text": [
            "Epoch 1/50\n",
            "274/274 [==============================] - 42s 136ms/step - loss: 1.5280 - accuracy: 0.4793 - val_loss: 1.2368 - val_accuracy: 0.5849\n",
            "Epoch 2/50\n",
            "274/274 [==============================] - 36s 132ms/step - loss: 1.2803 - accuracy: 0.5706 - val_loss: 1.1875 - val_accuracy: 0.5993\n",
            "Epoch 3/50\n",
            "274/274 [==============================] - 40s 147ms/step - loss: 1.2231 - accuracy: 0.5889 - val_loss: 1.1624 - val_accuracy: 0.6136\n",
            "Epoch 4/50\n",
            "274/274 [==============================] - 39s 141ms/step - loss: 1.1855 - accuracy: 0.6020 - val_loss: 1.1464 - val_accuracy: 0.6161\n",
            "Epoch 5/50\n",
            "274/274 [==============================] - 35s 127ms/step - loss: 1.1535 - accuracy: 0.6142 - val_loss: 1.1322 - val_accuracy: 0.6178\n",
            "Epoch 6/50\n",
            "274/274 [==============================] - 35s 128ms/step - loss: 1.1254 - accuracy: 0.6213 - val_loss: 1.1272 - val_accuracy: 0.6204\n",
            "Epoch 7/50\n",
            "274/274 [==============================] - 35s 128ms/step - loss: 1.0984 - accuracy: 0.6298 - val_loss: 1.1223 - val_accuracy: 0.6254\n",
            "Epoch 8/50\n",
            "274/274 [==============================] - 35s 128ms/step - loss: 1.0766 - accuracy: 0.6389 - val_loss: 1.1170 - val_accuracy: 0.6274\n",
            "Epoch 9/50\n",
            "274/274 [==============================] - 35s 126ms/step - loss: 1.0517 - accuracy: 0.6457 - val_loss: 1.1206 - val_accuracy: 0.6304\n",
            "Epoch 10/50\n",
            "274/274 [==============================] - 35s 126ms/step - loss: 1.0305 - accuracy: 0.6501 - val_loss: 1.1237 - val_accuracy: 0.6224\n",
            "Epoch 11/50\n",
            "274/274 [==============================] - 35s 127ms/step - loss: 1.0081 - accuracy: 0.6577 - val_loss: 1.1230 - val_accuracy: 0.6279\n",
            "Epoch 12/50\n",
            "274/274 [==============================] - 35s 128ms/step - loss: 0.9871 - accuracy: 0.6635 - val_loss: 1.1443 - val_accuracy: 0.6208\n",
            "Epoch 13/50\n",
            "274/274 [==============================] - 36s 131ms/step - loss: 0.9674 - accuracy: 0.6706 - val_loss: 1.1370 - val_accuracy: 0.6196\n",
            "Epoch 14/50\n",
            "274/274 [==============================] - 36s 132ms/step - loss: 0.9501 - accuracy: 0.6746 - val_loss: 1.1477 - val_accuracy: 0.6263\n",
            "Epoch 14: early stopping\n"
          ]
        }
      ],
      "source": [
        "callback = EarlyStopping(monitor='val_loss', min_delta=0.01, patience=6, verbose=1)\n",
        "history = model.fit(train_data, train_labels, epochs = 50,\n",
        "          batch_size = 256, shuffle=True,\n",
        "          validation_data=[val_data, val_labels],\n",
        "          callbacks=[callback])\n",
        "\n",
        "model.save('intents.h5')"
      ]
    },
    {
      "cell_type": "code",
      "execution_count": null,
      "metadata": {
        "id": "cy_zicU8ATDU"
      },
      "outputs": [],
      "source": [
        "results = model.evaluate(test_data, test_labels)\n",
        "print(\"test loss, test acc:\", results)"
      ]
    },
    {
      "cell_type": "code",
      "execution_count": null,
      "metadata": {
        "id": "CnZah9udsqIX"
      },
      "outputs": [],
      "source": [
        "plt.plot(history.history['accuracy'])\n",
        "plt.plot(history.history['val_accuracy'])\n",
        "plt.title('Model Accuracy')\n",
        "plt.ylabel('Accuracy')\n",
        "plt.xlabel('Epoch')\n",
        "plt.legend(['Train', 'Validation'], loc='upper left')\n",
        "plt.show()"
      ]
    },
    {
      "cell_type": "code",
      "execution_count": null,
      "metadata": {
        "colab": {
          "base_uri": "https://localhost:8080/",
          "height": 295
        },
        "id": "l43GfRfVss0Z",
        "outputId": "c7346b39-7729-4370-b60c-a81ee356b1a2"
      },
      "outputs": [
        {
          "data": {
            "image/png": "[encoded data removed]",
            "text/plain": [
              "<Figure size 432x288 with 1 Axes>"
            ]
          },
          "metadata": {},
          "output_type": "display_data"
        }
      ],
      "source": [
        "plt.plot(history.history['loss'])\n",
        "plt.plot(history.history['val_loss'])\n",
        "plt.title('Model Loss')\n",
        "plt.ylabel('Loss')\n",
        "plt.xlabel('Epoch')\n",
        "plt.legend(['Train', 'Validation'], loc='upper right')\n",
        "plt.show()"
      ]
    },
    {
      "cell_type": "code",
      "execution_count": null,
      "metadata": {
        "id": "lk5d10iutR_f"
      },
      "outputs": [],
      "source": [
        "def useModel():\n",
        "\n",
        "  model = load_model('intents.h5')\n",
        "\n",
        "  with open('tokenizer.pkl','rb') as file:\n",
        "    tokenizer = pickle.load(file)\n",
        "\n",
        "  with open('label_encoder.pkl','rb') as file:\n",
        "    label_encoder = pickle.load(file)\n",
        "  \n",
        "  with open('dic.pkl','rb') as file:\n",
        "    dic = pickle.load(file)\n",
        "  \n",
        "  question = input('Enter a question: ')\n",
        "  while question!='q':\n",
        "    doc = nlp(question)\n",
        "    lst = []\n",
        "    lst = [str(token.lemma_).lower() for token in doc if not (token.is_stop or token in emoji.UNICODE_EMOJI or token.is_punct)]\n",
        "      \n",
        "    test_keras = tokenizer.texts_to_sequences(lst)\n",
        "    test_keras_sequence = pad_sequences(test_keras, maxlen=maxLen, padding='post')\n",
        "    pred = model.predict(test_keras_sequence)\n",
        "\n",
        "    L = label_encoder.inverse_transform(np.argmax(pred,1))[0]\n",
        "    print(f\"Your question is in {Classes[L]} field\")\n",
        "\n",
        "    A = test_keras_sequence.reshape(1,-1)\n",
        "    A = test_keras_sequence.reshape(1,-1)\n",
        "    lst = []\n",
        "    for tup in dic[L]:\n",
        "      B = tup[0]\n",
        "      B = tokenizer.texts_to_sequences(B)\n",
        "      B = pad_sequences(B, maxlen=maxLen, padding='post')\n",
        "      B = B.reshape(1,-1)\n",
        "      s = cosine_similarity(A,B)\n",
        "      lst.append(s)\n",
        "    max_index = np.argmax(lst)\n",
        "    answer = dic[L][max_index][1]\n",
        "\n",
        "    print(f\"our answer: {answer}\")\n",
        "    text = input('Enter a question: ')"
      ]
    },
    {
      "cell_type": "code",
      "execution_count": null,
      "metadata": {
        "id": "YvcvWv8ktXTS"
      },
      "outputs": [],
      "source": [
        "useModel()"
      ]
    }
  ],
  "metadata": {
    "colab": {
      "collapsed_sections": [],
      "name": "Chatbot_Damerji.ipynb",
      "provenance": []
    },
    "kernelspec": {
      "display_name": "Python 3",
      "name": "python3"
    },
    "language_info": {
      "name": "python"
    }
  },
  "nbformat": 4,
  "nbformat_minor": 0
}